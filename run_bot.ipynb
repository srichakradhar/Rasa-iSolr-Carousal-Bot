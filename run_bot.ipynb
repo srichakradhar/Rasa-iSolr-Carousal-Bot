{
 "cells": [
  {
   "cell_type": "code",
   "execution_count": null,
   "metadata": {},
   "outputs": [],
   "source": [
    "import IPython\n",
    "from IPython.display import clear_output, HTML, display\n",
    "from rasa_core.agent import Agent\n",
    "import time\n",
    "\n",
    "messages = [\"Hi! you can chat in this window. Type 'stop' to end the conversation.\"]\n",
    "agent = Agent.load('models/dialogue')\n",
    "\n",
    "def chatlogs_html(messages):\n",
    "    messages_html = \"\".join([\"<p>{}</p>\".format(m) for m in messages])\n",
    "    chatbot_html = \"\"\"<div class=\"chat-window\" {}</div>\"\"\".format(messages_html)\n",
    "    return chatbot_html\n",
    "\n",
    "\n",
    "while True:\n",
    "    clear_output()\n",
    "    display(HTML(chatlogs_html(messages)))\n",
    "    time.sleep(0.3)\n",
    "    a = input()\n",
    "    messages.append(a)\n",
    "    if a == 'stop':\n",
    "        break\n",
    "    responses = agent.handle_message(a)\n",
    "    for r in responses:\n",
    "        messages.append(r.get(\"text\"))"
   ]
  },
  {
   "cell_type": "code",
   "execution_count": null,
   "metadata": {},
   "outputs": [],
   "source": []
  }
 ],
 "metadata": {
  "kernelspec": {
   "display_name": "Python 3",
   "language": "python",
   "name": "python3"
  },
  "language_info": {
   "codemirror_mode": {
    "name": "ipython",
    "version": 3
   },
   "file_extension": ".py",
   "mimetype": "text/x-python",
   "name": "python",
   "nbconvert_exporter": "python",
   "pygments_lexer": "ipython3",
   "version": "3.5.2"
  }
 },
 "nbformat": 4,
 "nbformat_minor": 2
}
